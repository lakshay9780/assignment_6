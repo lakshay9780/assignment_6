{
 "cells": [
  {
   "cell_type": "code",
   "execution_count": 14,
   "id": "41ab0203-e1eb-4fc9-a45a-496842fb6ba3",
   "metadata": {},
   "outputs": [
    {
     "name": "stdin",
     "output_type": "stream",
     "text": [
      "enter a list 1 2 3 4 5 6 7\n"
     ]
    },
    {
     "name": "stdout",
     "output_type": "stream",
     "text": [
      "<class 'list'>\n",
      "5040\n"
     ]
    }
   ],
   "source": [
    "def multiply(a):\n",
    "    mul=1\n",
    "    for j in range(0,len(a)):\n",
    "        a[j]=int(a[j])\n",
    "    for i in a:\n",
    "        mul=mul*i\n",
    "    print(mul)\n",
    "    \n",
    "y=input(\"enter a list\").split(\" \")\n",
    "print(type(y))\n",
    "multiply(y)\n",
    "        "
   ]
  },
  {
   "cell_type": "code",
   "execution_count": 2,
   "id": "12cd73a1-7de3-4861-8162-b1f560324c47",
   "metadata": {},
   "outputs": [
    {
     "ename": "IndentationError",
     "evalue": "expected an indented block after function definition on line 10 (30967018.py, line 13)",
     "output_type": "error",
     "traceback": [
      "\u001b[0;36m  Cell \u001b[0;32mIn[2], line 13\u001b[0;36m\u001b[0m\n\u001b[0;31m    y=[1,2,3,4, [44,55,66, True], False, (34,56,78,89,34), {1,2,3,3,2,1}, {1:34, \"key2\": [55, 67, 78, 89], 4: (45,22, 61, 34)}, [56, 'data science'], 'Machine Learning']\u001b[0m\n\u001b[0m    ^\u001b[0m\n\u001b[0;31mIndentationError\u001b[0m\u001b[0;31m:\u001b[0m expected an indented block after function definition on line 10\n"
     ]
    }
   ],
   "source": [
    "def multiply(a):\n",
    "    mul=1\n",
    "    for j in range(0,len(a)):\n",
    "        a[j]=int(a[j])\n",
    "    for i in a:\n",
    "        mul=mul*i\n",
    "    print(mul)\n",
    "    \n",
    "    \n",
    "def flat(a):\n",
    "    \n",
    "    \n",
    "y=[1,2,3,4, [44,55,66, True], False, (34,56,78,89,34), {1,2,3,3,2,1}, {1:34, \"key2\": [55, 67, 78, 89], 4: (45,22, 61, 34)}, [56, 'data science'], 'Machine Learning']\n",
    "\n",
    "print(type(y))\n",
    "multiply(y)"
   ]
  },
  {
   "cell_type": "code",
   "execution_count": null,
   "id": "ce574812-9f85-4c05-a647-79da66c1461c",
   "metadata": {},
   "outputs": [],
   "source": []
  },
  {
   "cell_type": "code",
   "execution_count": null,
   "id": "5aa43b97-3776-4281-b58b-e7d7c2e06429",
   "metadata": {},
   "outputs": [],
   "source": []
  }
 ],
 "metadata": {
  "kernelspec": {
   "display_name": "Python 3 (ipykernel)",
   "language": "python",
   "name": "python3"
  },
  "language_info": {
   "codemirror_mode": {
    "name": "ipython",
    "version": 3
   },
   "file_extension": ".py",
   "mimetype": "text/x-python",
   "name": "python",
   "nbconvert_exporter": "python",
   "pygments_lexer": "ipython3",
   "version": "3.10.8"
  }
 },
 "nbformat": 4,
 "nbformat_minor": 5
}
